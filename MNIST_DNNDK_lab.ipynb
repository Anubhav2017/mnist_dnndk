{
 "cells": [
  {
   "cell_type": "code",
   "execution_count": 1,
   "id": "e3a41d5d-985d-4440-b8f2-faf410c77662",
   "metadata": {},
   "outputs": [
    {
     "name": "stdout",
     "output_type": "stream",
     "text": [
      "Directory  /home/anubhav/Desktop/MNIST_DNNDK_lab/tb_logs created \n",
      "Directory  /home/anubhav/Desktop/MNIST_DNNDK_lab/chkpts created \n",
      "Epoch 1 / 3\n",
      " Step:    0  Training accuracy: 0.1092\n",
      " Step:  100  Training accuracy: 0.8422\n",
      " Step:  200  Training accuracy: 0.8653\n",
      " Step:  300  Training accuracy: 0.9026\n",
      " Step:  400  Training accuracy: 0.9197\n",
      " Step:  500  Training accuracy: 0.9310\n",
      " Step:  600  Training accuracy: 0.9301\n",
      " Step:  700  Training accuracy: 0.9411\n",
      " Step:  800  Training accuracy: 0.9407\n",
      " Step:  900  Training accuracy: 0.9504\n",
      " Step: 1000  Training accuracy: 0.9506\n",
      "Epoch 2 / 3\n",
      " Step:    0  Training accuracy: 0.9559\n",
      " Step:  100  Training accuracy: 0.9586\n",
      " Step:  200  Training accuracy: 0.9564\n",
      " Step:  300  Training accuracy: 0.9632\n",
      " Step:  400  Training accuracy: 0.9650\n",
      " Step:  500  Training accuracy: 0.9663\n",
      " Step:  600  Training accuracy: 0.9657\n",
      " Step:  700  Training accuracy: 0.9694\n",
      " Step:  800  Training accuracy: 0.9660\n",
      " Step:  900  Training accuracy: 0.9702\n",
      " Step: 1000  Training accuracy: 0.9698\n",
      "Epoch 3 / 3\n",
      " Step:    0  Training accuracy: 0.9721\n",
      " Step:  100  Training accuracy: 0.9740\n",
      " Step:  200  Training accuracy: 0.9711\n",
      " Step:  300  Training accuracy: 0.9773\n",
      " Step:  400  Training accuracy: 0.9766\n",
      " Step:  500  Training accuracy: 0.9765\n",
      " Step:  600  Training accuracy: 0.9766\n",
      " Step:  700  Training accuracy: 0.9769\n",
      " Step:  800  Training accuracy: 0.9742\n",
      " Step:  900  Training accuracy: 0.9775\n",
      " Step: 1000  Training accuracy: 0.9779\n",
      "SAVING:\n",
      "Saved checkpoint to /home/anubhav/Desktop/MNIST_DNNDK_lab/chkpts/float_model.ckpt\n",
      "Saved binary graphDef to /home/anubhav/Desktop/MNIST_DNNDK_lab/chkpts/training_graph.pb\n",
      "-------------------------------------------------------------\n"
     ]
    }
   ],
   "source": [
    "!python3 mnist_train.py"
   ]
  },
  {
   "cell_type": "code",
   "execution_count": 2,
   "id": "0fff98a7-4950-4a5a-b396-23ec54edbd12",
   "metadata": {},
   "outputs": [
    {
     "name": "stdout",
     "output_type": "stream",
     "text": [
      "/home/anubhav/anaconda3/envs/decent/lib/python3.6/site-packages/tensorflow/python/framework/dtypes.py:523: FutureWarning: Passing (type, 1) or '1type' as a synonym of type is deprecated; in a future version of numpy, it will be understood as (type, (1,)) / '(1,)type'.\n",
      "  _np_qint8 = np.dtype([(\"qint8\", np.int8, 1)])\n",
      "/home/anubhav/anaconda3/envs/decent/lib/python3.6/site-packages/tensorflow/python/framework/dtypes.py:524: FutureWarning: Passing (type, 1) or '1type' as a synonym of type is deprecated; in a future version of numpy, it will be understood as (type, (1,)) / '(1,)type'.\n",
      "  _np_quint8 = np.dtype([(\"quint8\", np.uint8, 1)])\n",
      "/home/anubhav/anaconda3/envs/decent/lib/python3.6/site-packages/tensorflow/python/framework/dtypes.py:525: FutureWarning: Passing (type, 1) or '1type' as a synonym of type is deprecated; in a future version of numpy, it will be understood as (type, (1,)) / '(1,)type'.\n",
      "  _np_qint16 = np.dtype([(\"qint16\", np.int16, 1)])\n",
      "/home/anubhav/anaconda3/envs/decent/lib/python3.6/site-packages/tensorflow/python/framework/dtypes.py:526: FutureWarning: Passing (type, 1) or '1type' as a synonym of type is deprecated; in a future version of numpy, it will be understood as (type, (1,)) / '(1,)type'.\n",
      "  _np_quint16 = np.dtype([(\"quint16\", np.uint16, 1)])\n",
      "/home/anubhav/anaconda3/envs/decent/lib/python3.6/site-packages/tensorflow/python/framework/dtypes.py:527: FutureWarning: Passing (type, 1) or '1type' as a synonym of type is deprecated; in a future version of numpy, it will be understood as (type, (1,)) / '(1,)type'.\n",
      "  _np_qint32 = np.dtype([(\"qint32\", np.int32, 1)])\n",
      "/home/anubhav/anaconda3/envs/decent/lib/python3.6/site-packages/tensorflow/python/framework/dtypes.py:532: FutureWarning: Passing (type, 1) or '1type' as a synonym of type is deprecated; in a future version of numpy, it will be understood as (type, (1,)) / '(1,)type'.\n",
      "  np_resource = np.dtype([(\"resource\", np.ubyte, 1)])\n",
      "WARNING:tensorflow:From /home/anubhav/anaconda3/envs/decent/lib/python3.6/site-packages/tensorflow/python/tools/freeze_graph.py:249: FastGFile.__init__ (from tensorflow.python.platform.gfile) is deprecated and will be removed in a future version.\n",
      "Instructions for updating:\n",
      "Use tf.gfile.GFile.\n"
     ]
    }
   ],
   "source": [
    "!rm -rf ./freeze\n",
    "!mkdir ./freeze\n",
    "\n",
    "!freeze_graph --input_graph=./chkpts/training_graph.pb \\\n",
    "             --input_checkpoint=./chkpts/float_model.ckpt \\\n",
    "             --input_binary=true \\\n",
    "             --output_graph=./freeze/frozen_graph.pb \\\n",
    "             --output_node_names=dense_1/BiasAdd\n"
   ]
  },
  {
   "cell_type": "code",
   "execution_count": 3,
   "id": "5d32aadd-d6f0-47aa-a9dc-686752550ef5",
   "metadata": {},
   "outputs": [
    {
     "name": "stdout",
     "output_type": "stream",
     "text": [
      "WARNING:tensorflow:From eval_graph.py:61: FastGFile.__init__ (from tensorflow.python.platform.gfile) is deprecated and will be removed in a future version.\n",
      "Instructions for updating:\n",
      "Use tf.gfile.GFile.\n",
      " Top 1 accuracy with validation set: 0.9785\n",
      " Top 5 accuracy with validation set: 0.9998\n",
      "FINISHED!\n"
     ]
    }
   ],
   "source": [
    "!python3 eval_graph.py \\\n",
    "  --graph ./freeze/frozen_graph.pb \\\n",
    "  --input_node images_in \\\n",
    "  --output_node dense_1/BiasAdd \\\n",
    "  --gpu 0"
   ]
  },
  {
   "cell_type": "code",
   "execution_count": 4,
   "id": "53176331-406d-46da-9a5d-38ba96f100ee",
   "metadata": {},
   "outputs": [
    {
     "name": "stdout",
     "output_type": "stream",
     "text": [
      "Directory /home/anubhav/Desktop/MNIST_DNNDK_lab/calib_dir created\n",
      "FINISHED GENERATING CALIBRATION IMAGES\n",
      "/home/anubhav/anaconda3/envs/decent/lib/python3.6/site-packages/tensorflow/python/framework/dtypes.py:523: FutureWarning: Passing (type, 1) or '1type' as a synonym of type is deprecated; in a future version of numpy, it will be understood as (type, (1,)) / '(1,)type'.\n",
      "  _np_qint8 = np.dtype([(\"qint8\", np.int8, 1)])\n",
      "/home/anubhav/anaconda3/envs/decent/lib/python3.6/site-packages/tensorflow/python/framework/dtypes.py:524: FutureWarning: Passing (type, 1) or '1type' as a synonym of type is deprecated; in a future version of numpy, it will be understood as (type, (1,)) / '(1,)type'.\n",
      "  _np_quint8 = np.dtype([(\"quint8\", np.uint8, 1)])\n",
      "/home/anubhav/anaconda3/envs/decent/lib/python3.6/site-packages/tensorflow/python/framework/dtypes.py:525: FutureWarning: Passing (type, 1) or '1type' as a synonym of type is deprecated; in a future version of numpy, it will be understood as (type, (1,)) / '(1,)type'.\n",
      "  _np_qint16 = np.dtype([(\"qint16\", np.int16, 1)])\n",
      "/home/anubhav/anaconda3/envs/decent/lib/python3.6/site-packages/tensorflow/python/framework/dtypes.py:526: FutureWarning: Passing (type, 1) or '1type' as a synonym of type is deprecated; in a future version of numpy, it will be understood as (type, (1,)) / '(1,)type'.\n",
      "  _np_quint16 = np.dtype([(\"quint16\", np.uint16, 1)])\n",
      "/home/anubhav/anaconda3/envs/decent/lib/python3.6/site-packages/tensorflow/python/framework/dtypes.py:527: FutureWarning: Passing (type, 1) or '1type' as a synonym of type is deprecated; in a future version of numpy, it will be understood as (type, (1,)) / '(1,)type'.\n",
      "  _np_qint32 = np.dtype([(\"qint32\", np.int32, 1)])\n",
      "/home/anubhav/anaconda3/envs/decent/lib/python3.6/site-packages/tensorflow/python/framework/dtypes.py:532: FutureWarning: Passing (type, 1) or '1type' as a synonym of type is deprecated; in a future version of numpy, it will be understood as (type, (1,)) / '(1,)type'.\n",
      "  np_resource = np.dtype([(\"resource\", np.ubyte, 1)])\n",
      "INFO: Checking Float Graph...\n",
      "INFO: Float Graph Check Done.\n",
      "INFO: Calibrating for 200 iterations...\n",
      "100% (200 of 200) |######################| Elapsed Time: 0:00:22 Time:  0:00:22\n",
      "INFO: Calibration Done.\n",
      "INFO: Generating Deploy Model...\n",
      "INFO: Deploy Model Generated.\n",
      "********************* Quantization Summary *********************      \n",
      "INFO: Output:       \n",
      "  quantize_eval_model: ./quantize_results/quantize_eval_model.pb       \n",
      "  deploy_model: ./quantize_results/deploy_model.pb\n"
     ]
    }
   ],
   "source": [
    "!python3 generate_images.py\n",
    "!rm -rf ./quantize_results\n",
    "!decent_q quantize \\\n",
    "  --input_frozen_graph ./freeze/frozen_graph.pb \\\n",
    "  --input_nodes images_in \\\n",
    "  --input_shapes ?,28,28,1 \\\n",
    "  --output_nodes dense_1/BiasAdd \\\n",
    "  --method 1 \\\n",
    "  --input_fn graph_input_fn.calib_input \\\n",
    "  --gpu 0 \\\n",
    "  --calib_iter 200"
   ]
  },
  {
   "cell_type": "code",
   "execution_count": 8,
   "id": "a32e7550-9390-4032-9494-a1dbed3ff191",
   "metadata": {},
   "outputs": [
    {
     "name": "stdout",
     "output_type": "stream",
     "text": [
      "#####################################\n",
      "EVALUATE QUANTIZED GRAPH\n",
      "#####################################\n",
      "WARNING:tensorflow:From eval_graph.py:61: FastGFile.__init__ (from tensorflow.python.platform.gfile) is deprecated and will be removed in a future version.\n",
      "Instructions for updating:\n",
      "Use tf.gfile.GFile.\n",
      "2021-09-23 02:40:27.863604: W tensorflow/core/framework/allocator.cc:122] Allocation of 432640000 exceeds 10% of system memory.\n",
      "2021-09-23 02:40:28.415027: W tensorflow/core/framework/allocator.cc:122] Allocation of 432640000 exceeds 10% of system memory.\n",
      "2021-09-23 02:40:29.662564: W tensorflow/core/framework/allocator.cc:122] Allocation of 108160000 exceeds 10% of system memory.\n",
      "2021-09-23 02:40:29.747572: W tensorflow/core/framework/allocator.cc:122] Allocation of 108160000 exceeds 10% of system memory.\n",
      "2021-09-23 02:40:30.054557: W tensorflow/core/framework/allocator.cc:122] Allocation of 154880000 exceeds 10% of system memory.\n",
      " Top 1 accuracy with validation set: 0.9801\n",
      " Top 5 accuracy with validation set: 0.9999\n",
      "FINISHED!\n",
      "#####################################\n",
      "EVALUATE QUANTIZED GRAPH COMPLETED\n",
      "#####################################\n"
     ]
    }
   ],
   "source": []
  },
  {
   "cell_type": "markdown",
   "id": "c82470f4-79c5-4c33-8e50-dca480db2a81",
   "metadata": {},
   "source": [
    "### Generate dcf"
   ]
  },
  {
   "cell_type": "code",
   "execution_count": 6,
   "id": "ab87cff7-540b-4cf6-b4bd-20ebbfe1ff3d",
   "metadata": {},
   "outputs": [
    {
     "name": "stdout",
     "output_type": "stream",
     "text": [
      "[DLet]Generate DPU DCF file dpu-04-15-2021-17-15.dcf successfully.\n",
      "'./dpu-04-15-2021-17-15.dcf' -> './pynqz2_dpu.dcf'\n"
     ]
    }
   ],
   "source": [
    "!dlet -f ./pynqz2_dpu.hwh\n",
    "!mv -v ./*.dcf ./pynqz2_dpu.dcf"
   ]
  },
  {
   "cell_type": "code",
   "execution_count": 7,
   "id": "7fa803cf-e558-4352-ab23-82a667697bca",
   "metadata": {
    "tags": []
   },
   "outputs": [
    {
     "name": "stdout",
     "output_type": "stream",
     "text": [
      "\r\n",
      "DNNC Kernel topology \"mnist_kernel_graph.jpg\" for network \"mnist\"\r\n",
      "DNNC kernel list info for network \"mnist\"\r\n",
      "                               Kernel ID : Name\r\n",
      "                                       0 : mnist\r\n",
      "\r\n",
      "                             Kernel Name : mnist\r\n",
      "--------------------------------------------------------------------------------\r\n",
      "                             Kernel Type : DPUKernel\r\n",
      "                               Code Size : 7.49KB\r\n",
      "                              Param Size : 0.95MB\r\n",
      "                           Workload MACs : 3.30MOPS\r\n",
      "                         IO Memory Space : 7.31KB\r\n",
      "                              Mean Value : 0, 0, 0, \r\n",
      "                              Node Count : 4\r\n",
      "                            Tensor Count : 5\r\n",
      "                    Input Node(s)(H*W*C)\r\n",
      "                        conv2d_Conv2D(0) : 28*28*1\r\n",
      "                   Output Node(s)(H*W*C)\r\n",
      "                       dense_1_MatMul(0) : 1*1*10\r\n",
      "\r\n",
      "\r\n"
     ]
    }
   ],
   "source": [
    "!rm -rf ./compile\n",
    "!mkdir ./compile\n",
    "!dnnc \\\n",
    "       --parser=tensorflow \\\n",
    "       --frozen_pb=./quantize_results/deploy_model.pb \\\n",
    "       --dcf=pynqz2_dpu.dcf \\\n",
    "       --cpu_arch=arm32 \\\n",
    "       --output_dir=compile \\\n",
    "       --save_kernel \\\n",
    "       --mode=normal \\\n",
    "       --net_name=mnist"
   ]
  },
  {
   "cell_type": "code",
   "execution_count": 8,
   "id": "d7258203-3e78-4e65-9da9-b45a9cfa33fc",
   "metadata": {},
   "outputs": [
    {
     "name": "stdout",
     "output_type": "stream",
     "text": [
      "/home/anubhav/anaconda3/envs/decent/lib/python3.6/site-packages/tensorflow/python/framework/dtypes.py:523: FutureWarning: Passing (type, 1) or '1type' as a synonym of type is deprecated; in a future version of numpy, it will be understood as (type, (1,)) / '(1,)type'.\n",
      "  _np_qint8 = np.dtype([(\"qint8\", np.int8, 1)])\n",
      "/home/anubhav/anaconda3/envs/decent/lib/python3.6/site-packages/tensorflow/python/framework/dtypes.py:524: FutureWarning: Passing (type, 1) or '1type' as a synonym of type is deprecated; in a future version of numpy, it will be understood as (type, (1,)) / '(1,)type'.\n",
      "  _np_quint8 = np.dtype([(\"quint8\", np.uint8, 1)])\n",
      "/home/anubhav/anaconda3/envs/decent/lib/python3.6/site-packages/tensorflow/python/framework/dtypes.py:525: FutureWarning: Passing (type, 1) or '1type' as a synonym of type is deprecated; in a future version of numpy, it will be understood as (type, (1,)) / '(1,)type'.\n",
      "  _np_qint16 = np.dtype([(\"qint16\", np.int16, 1)])\n",
      "/home/anubhav/anaconda3/envs/decent/lib/python3.6/site-packages/tensorflow/python/framework/dtypes.py:526: FutureWarning: Passing (type, 1) or '1type' as a synonym of type is deprecated; in a future version of numpy, it will be understood as (type, (1,)) / '(1,)type'.\n",
      "  _np_quint16 = np.dtype([(\"quint16\", np.uint16, 1)])\n",
      "/home/anubhav/anaconda3/envs/decent/lib/python3.6/site-packages/tensorflow/python/framework/dtypes.py:527: FutureWarning: Passing (type, 1) or '1type' as a synonym of type is deprecated; in a future version of numpy, it will be understood as (type, (1,)) / '(1,)type'.\n",
      "  _np_qint32 = np.dtype([(\"qint32\", np.int32, 1)])\n",
      "/home/anubhav/anaconda3/envs/decent/lib/python3.6/site-packages/tensorflow/python/framework/dtypes.py:532: FutureWarning: Passing (type, 1) or '1type' as a synonym of type is deprecated; in a future version of numpy, it will be understood as (type, (1,)) / '(1,)type'.\n",
      "  np_resource = np.dtype([(\"resource\", np.ubyte, 1)])\n",
      "Op types used: 3 Relu, 2 Conv2D, 2 MatMul, 1 MaxPool, 1 Placeholder, 1 Reshape\n",
      "\n",
      "Found 1 possible inputs: (name=images_in, type=float(1), shape=[1,28,28,1]) \n",
      "Found 1 possible outputs: (name=dense_1/MatMul, op=MatMul) \n"
     ]
    }
   ],
   "source": [
    "!decent_q inspect --input_frozen_graph ./quantize_results/deploy_model.pb"
   ]
  },
  {
   "cell_type": "code",
   "execution_count": null,
   "id": "e237cd41",
   "metadata": {},
   "outputs": [],
   "source": []
  }
 ],
 "metadata": {
  "kernelspec": {
   "display_name": "Python 3",
   "language": "python",
   "name": "python3"
  },
  "language_info": {
   "codemirror_mode": {
    "name": "ipython",
    "version": 3
   },
   "file_extension": ".py",
   "mimetype": "text/x-python",
   "name": "python",
   "nbconvert_exporter": "python",
   "pygments_lexer": "ipython3",
   "version": "3.6.13"
  }
 },
 "nbformat": 4,
 "nbformat_minor": 5
}
