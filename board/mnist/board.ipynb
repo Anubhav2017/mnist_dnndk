{
 "cells": [
  {
   "cell_type": "code",
   "execution_count": null,
   "metadata": {},
   "outputs": [],
   "source": [
    "import sys\n",
    "sys.path.append('/usr/local/lib/python2.7/dist-packages')\n",
    "from dnndk import n2cube, dputils\n",
    "from ctypes import *\n",
    "import cv2\n",
    "import numpy as np\n",
    "import os\n",
    "import threading\n",
    "import time\n",
    "import sys\n",
    "from matplotlib import pyplot as plt\n",
    "import matplotlib"
   ]
  },
  {
   "cell_type": "code",
   "execution_count": null,
   "metadata": {},
   "outputs": [],
   "source": [
    "KERNEL_CONV = \"mnist\"\n",
    "KERNEL_CONV_INPUT = \"conv2d_Conv2D(0)\"\n",
    "KERNEL_FC_OUTPUT = \"dense_1_MatMul(0)\""
   ]
  },
  {
   "cell_type": "code",
   "execution_count": null,
   "metadata": {},
   "outputs": [],
   "source": [
    "def preprocess_fn(image_path):\n",
    "    '''\n",
    "    Image pre-processing.\n",
    "    Opens image as grayscale then normalizes to range 0:1\n",
    "    input arg: path of image file\n",
    "    return: numpy array\n",
    "    '''\n",
    "    image = cv2.imread(image_path, cv2.IMREAD_GRAYSCALE)\n",
    "    image = image.reshape(28,28,1)\n",
    "    image = image/255.0\n",
    "    return image\n",
    "\n",
    "image_dir=\"test_images\"\n",
    "listimage=os.listdir(image_dir)\n",
    "runTotal = len(listimage\n",
    "               \n",
    "print('Pre-processing',runTotal,'images...')\n",
    "imgs = []\n",
    "for i in range(runTotal):\n",
    "    path = os.path.join(image_dir,listimage[i])\n",
    "    imgs.append(preprocess_fn(path))"
   ]
  },
  {
   "cell_type": "code",
   "execution_count": null,
   "metadata": {},
   "outputs": [],
   "source": [
    "# Attach to DPU driver and prepare for runing\n",
    "n2cube.dpuOpen()\n",
    "# Create DPU Kernels for ResNet50\n",
    "kernel = n2cube.dpuLoadKernel(KERNEL_CONV)\n",
    "# Create DPU Tasks from DPU Kernel\n",
    "task = n2cube.dpuCreateTask(kernel, 0)\n",
    "\n",
    "size = n2cube.dpuGetInputTensorSize(task, KERNEL_CONV_INPUT)\n",
    "# Get the output tensor channel from FC output\n",
    "channel = n2cube.dpuGetOutputTensorSize(task, KERNEL_FC_OUTPUT)\n",
    "\n",
    "FCResult = [0 for i in range(channel)]\n",
    "out_q=[]\n",
    "for img in imgs:\n",
    "    n2cube.dpuGetInputTensorInHWCFP32(task, KERNEL_CONV_INPUT,img, size)\n",
    "    n2cube.dpuRunTask(task)\n",
    "    n2cube.dpuGetOutputTensorInHWCFP32(task, KERNEL_FC_OUTPUT, FCResult, channel)\n",
    "    out_q.append(FCResult.index(max(FCResult)))"
   ]
  },
  {
   "cell_type": "code",
   "execution_count": null,
   "metadata": {},
   "outputs": [],
   "source": [
    "classes = ['zero','one','two','three','four','five','six','seven','eight','nine'] \n",
    "correct = 0\n",
    "wrong = 0\n",
    "for i in range(len(out_q)):\n",
    "    prediction = classes[out_q[i]]\n",
    "    ground_truth, _ = listimage[i].split('_',1)\n",
    "    if (ground_truth==prediction):\n",
    "        correct += 1\n",
    "    else:\n",
    "        wrong += 1\n",
    "    accuracy = correct/len(out_q)\n",
    "    print('Correct:%d, Wrong:%d, Accuracy:%.4f' %(correct,wrong,accuracy))"
   ]
  },
  {
   "cell_type": "code",
   "execution_count": null,
   "metadata": {},
   "outputs": [],
   "source": [
    "rtn = n2cube.dpuDestroyKernel(kernel)\n",
    "n2cube.dpuClose()"
   ]
  }
 ],
 "metadata": {
  "kernelspec": {
   "display_name": "Python 3",
   "language": "python",
   "name": "python3"
  },
  "language_info": {
   "codemirror_mode": {
    "name": "ipython",
    "version": 3
   },
   "file_extension": ".py",
   "mimetype": "text/x-python",
   "name": "python",
   "nbconvert_exporter": "python",
   "pygments_lexer": "ipython3",
   "version": "3.6.13"
  }
 },
 "nbformat": 4,
 "nbformat_minor": 2
}
